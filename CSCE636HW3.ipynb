{
  "cells": [
    {
      "cell_type": "markdown",
      "metadata": {
        "id": "view-in-github",
        "colab_type": "text"
      },
      "source": [
        "<a href=\"https://colab.research.google.com/github/ChunkaiFu/CSCE636/blob/main/CSCE636HW3.ipynb\" target=\"_parent\"><img src=\"https://colab.research.google.com/assets/colab-badge.svg\" alt=\"Open In Colab\"/></a>"
      ]
    },
    {
      "cell_type": "markdown",
      "source": [
        "# Task 1"
      ],
      "metadata": {
        "id": "CwFFMyIKC_Pi"
      }
    },
    {
      "cell_type": "markdown",
      "source": [
        "What regularization techniques were mentioned in that Jupyter notebook? (5 points)"
      ],
      "metadata": {
        "id": "a3rSA57TjKe-"
      }
    },
    {
      "cell_type": "markdown",
      "source": [
        "\n",
        "\n",
        "```\n",
        "l1, l2, l1_l2, and Dropout appeared in the regulization code blocks. \n",
        "```\n",
        "\n",
        "\n"
      ],
      "metadata": {
        "id": "-WGO91S3jMtt"
      }
    },
    {
      "cell_type": "markdown",
      "source": [
        "# Task 2 "
      ],
      "metadata": {
        "id": "s7sKxqBtDFGP"
      }
    },
    {
      "cell_type": "markdown",
      "source": [
        "The MNIST dataset has 60,000 training images and 10,000 test images. Each image is a 28x28 array, where each array element is between 0 and 255. The images have 10 labels: 0, 1, 2, 3, 4, 5, 6, 7, 8, 9.\n",
        "\n",
        "We now create a new dataset of 30,000 training images, 5,000 test images and 5 labels (which are 0, 1, 2, 3, 4) as follows. First, randomly pair up the training images of label 0 with the training images of label 1, to get 6,000 such pairs. Then, for each pair (A,B) where A is an image of label 0 and B is an image of label 1, we create a new image of size 28x28, where each element's value is the \"average\" of the two corresponding pixel values in A and B. (So the new image is a \"mixture\" of the two original images.) This way we create 6,000 new \"mixture\" images for training. In a similar way, we create 1,000 new \"mixture\" images for testing. We give all these 6,000+1,000=7,000 new \"mixture\" images the new label 0. Then, in the same way, we create 6,000 new training images and 1,000 new test images by mixing the original images of label \"2\" and \"3\", and give them the new label 1; create 6,000 new training images and 1,000 new test images by mixing the original images of label \"4\" and \"5\", and give them the new label 2; create 6,000 new training images and 1,000 new test images by mixing the original images of label \"6\" and \"7\", and give them the new label 3; create 6,000 new training images and 1,000 new test images by mixing the original images of label \"8\" and \"9\", and give them the new label 4.    \n",
        "\n",
        "Your task: submit your code that creates the above new dataset; then for each of the 5 new labels, randomly select 2 images of that label from your new dataset, and display them in your submitted Jupyter notebook. (5 points)\n"
      ],
      "metadata": {
        "id": "woqI6P7seLsX"
      }
    },
    {
      "cell_type": "markdown",
      "metadata": {
        "id": "hPA0Scmjd7_A"
      },
      "source": [
        "Import the mnist dataset "
      ]
    },
    {
      "cell_type": "code",
      "execution_count": 65,
      "metadata": {
        "id": "FTWLH0pRd7_B"
      },
      "outputs": [],
      "source": [
        "from tensorflow.keras.datasets import mnist\n",
        "import numpy as np\n",
        "\n",
        "(train_images, train_labels), (test_images, test_labels) = mnist.load_data()\n",
        "train_images = train_images.reshape((60000, 28 * 28))\n",
        "train_images = train_images.astype(\"float32\")/255 \n",
        "\n",
        "label_0_train_images = np.array([])\n",
        "label_1_train_images = np.array([])\n",
        "label_2_train_images = np.array([])\n",
        "label_3_train_images = np.array([])\n",
        "label_4_train_images = np.array([])\n",
        "label_5_train_images = np.array([])\n",
        "label_6_train_images = np.array([])\n",
        "label_7_train_images = np.array([])\n",
        "label_8_train_images = np.array([])\n",
        "label_9_train_images = np.array([])\n",
        "\n",
        "label_0_test_images = np.array([])\n",
        "label_1_test_images = np.array([])\n",
        "label_2_test_images = np.array([])\n",
        "label_3_test_images = np.array([])\n",
        "label_4_test_images = np.array([])\n",
        "label_5_test_images = np.array([])\n",
        "label_6_test_images = np.array([])\n",
        "label_7_test_images = np.array([])\n",
        "label_8_test_images = np.array([])\n",
        "label_9_test_images = np.array([])\n",
        "\n",
        "# there got to be a more efficient and elegant way to preprocess the data \n",
        "for idx, label in enumerate(train_labels): \n",
        "  if label == 0: label_0_train_images = np.append(label_0_train_images, train_images[idx])\n",
        "  elif label == 1: label_1_train_images = np.append(label_1_train_images, train_images[idx])\n",
        "  elif label == 2: label_2_train_images = np.append(label_2_train_images, train_images[idx])\n",
        "  elif label == 3: label_3_train_images = np.append(label_3_train_images, train_images[idx])\n",
        "  elif label == 4: label_4_train_images = np.append(label_4_train_images, train_images[idx])\n",
        "  elif label == 5: label_5_train_images = np.append(label_5_train_images, train_images[idx])\n",
        "  elif label == 6: label_6_train_images = np.append(label_6_train_images, train_images[idx])\n",
        "  elif label == 7: label_7_train_images = np.append(label_7_train_images, train_images[idx])\n",
        "  elif label == 8: label_8_train_images = np.append(label_8_train_images, train_images[idx])\n",
        "  elif label == 9: label_9_train_images = np.append(label_9_train_images, train_images[idx])\n",
        "\n",
        "for idx, label in enumerate(test_labels): \n",
        "  if label == 0: label_0_test_images = np.append(label_0_test_images, test_images[idx])\n",
        "  elif label == 1: label_1_test_images = np.append(label_1_test_images, test_images[idx])\n",
        "  elif label == 2: label_2_test_images = np.append(label_2_test_images, test_images[idx])\n",
        "  elif label == 3: label_3_test_images = np.append(label_3_test_images, test_images[idx])\n",
        "  elif label == 4: label_4_test_images = np.append(label_4_test_images, test_images[idx])\n",
        "  elif label == 5: label_5_test_images = np.append(label_5_test_images, test_images[idx])\n",
        "  elif label == 6: label_6_test_images = np.append(label_6_test_images, test_images[idx])\n",
        "  elif label == 7: label_7_test_images = np.append(label_7_test_images, test_images[idx])\n",
        "  elif label == 8: label_8_test_images = np.append(label_8_test_images, test_images[idx])\n",
        "  elif label == 9: label_9_test_images = np.append(label_9_test_images, test_images[idx])"
      ]
    },
    {
      "cell_type": "markdown",
      "source": [
        "For train_images: Generate the new images by averaging label 0 and 1 element wise "
      ],
      "metadata": {
        "id": "gDPiDRoTuweb"
      }
    },
    {
      "cell_type": "code",
      "source": [
        "global_train_pixel_count = np.array([])\n",
        "min = np.minimum(len(label_0_train_images), len(label_1_train_images)) \n",
        "global_train_pixel_count = np.append(global_train_pixel_count, min) \n",
        "train_images_label_0_mixed = np.zeros(shape = (min,))\n",
        "for i in range(0, min, 1): \n",
        "  train_images_label_0_mixed[i] = (label_0_train_images[i] + label_1_train_images[i]) * 0.5 \n",
        "\n",
        "min = np.minimum(len(label_2_train_images), len(label_3_train_images)) \n",
        "global_train_pixel_count = np.append(global_train_pixel_count, min) \n",
        "train_images_label_1_mixed = np.zeros(shape = (min,))\n",
        "for i in range(0, min, 1): \n",
        "  train_images_label_1_mixed[i] = (label_2_train_images[i] + label_3_train_images[i]) * 0.5 \n",
        "\n",
        "min = np.minimum(len(label_4_train_images), len(label_5_train_images))\n",
        "global_train_pixel_count = np.append(global_train_pixel_count, min) \n",
        "train_images_label_2_mixed = np.zeros(shape = (min,)) \n",
        "for i in range(0, min, 1):\n",
        "  train_images_label_2_mixed[i] = (label_4_train_images[i] + label_5_train_images[i]) * 0.5 \n",
        "\n",
        "min = np.minimum(len(label_6_train_images), len(label_7_train_images))\n",
        "global_train_pixel_count = np.append(global_train_pixel_count, min) \n",
        "train_images_label_3_mixed = np.zeros(shape = (min,)) \n",
        "for i in range(0, min, 1):\n",
        "  train_images_label_3_mixed[i] = (label_6_train_images[i] + label_7_train_images[i]) * 0.5 \n",
        "\n",
        "min = np.minimum(len(label_8_train_images), len(label_9_train_images))\n",
        "global_train_pixel_count = np.append(global_train_pixel_count, min) \n",
        "train_images_label_4_mixed = np.zeros(shape = (min,)) \n",
        "for i in range(0, min, 1):\n",
        "  train_images_label_4_mixed[i]= (label_8_train_images[i] + label_9_train_images[i]) * 0.5 "
      ],
      "metadata": {
        "id": "KR42K94xjhG1"
      },
      "execution_count": 66,
      "outputs": []
    },
    {
      "cell_type": "code",
      "source": [
        "global_train_pixel_count"
      ],
      "metadata": {
        "colab": {
          "base_uri": "https://localhost:8080/"
        },
        "id": "woU0wf8a_wzC",
        "outputId": "ba0ca44c-5aad-47e5-8c74-a4c45c4e2bc4"
      },
      "execution_count": 67,
      "outputs": [
        {
          "output_type": "execute_result",
          "data": {
            "text/plain": [
              "array([4643632., 4671072., 4250064., 4639712., 4587184.])"
            ]
          },
          "metadata": {},
          "execution_count": 67
        }
      ]
    },
    {
      "cell_type": "markdown",
      "source": [
        "For test_images: generate the new images by averaging the 0 and 1 "
      ],
      "metadata": {
        "id": "roruD2Pv4b2g"
      }
    },
    {
      "cell_type": "code",
      "source": [
        "global_test_pixel_count = np.array([])\n",
        "min = np.minimum(len(label_0_test_images), len(label_1_test_images)) \n",
        "global_test_pixel_count = np.append(global_test_pixel_count, min) \n",
        "test_images_label_0_mixed = np.zeros(shape = (min,))\n",
        "for i in range(0, min, 1): \n",
        "  test_images_label_0_mixed[i] = (label_0_test_images[i] + label_1_test_images[i]) * 0.5 \n",
        "\n",
        "min = np.minimum(len(label_2_test_images), len(label_3_test_images)) \n",
        "global_test_pixel_count = np.append(global_test_pixel_count, min) \n",
        "test_images_label_1_mixed = np.zeros(shape = (min,))\n",
        "for i in range(0, min, 1): \n",
        "  test_images_label_1_mixed[i] = (label_2_test_images[i] + label_3_test_images[i]) * 0.5 \n",
        "\n",
        "min = np.minimum(len(label_4_test_images), len(label_5_test_images))\n",
        "global_test_pixel_count = np.append(global_test_pixel_count, min) \n",
        "test_images_label_2_mixed = np.zeros(shape = (min,)) \n",
        "for i in range(0, min, 1):\n",
        "  test_images_label_2_mixed[i] = (label_4_test_images[i] + label_5_test_images[i]) * 0.5 \n",
        "\n",
        "min = np.minimum(len(label_6_test_images), len(label_7_test_images))\n",
        "global_test_pixel_count = np.append(global_test_pixel_count, min) \n",
        "test_images_label_3_mixed = np.zeros(shape = (min,)) \n",
        "for i in range(0, min, 1):\n",
        "  test_images_label_3_mixed[i] = (label_6_test_images[i] + label_7_test_images[i]) * 0.5 \n",
        "\n",
        "min = np.minimum(len(label_8_test_images), len(label_9_test_images))\n",
        "global_test_pixel_count = np.append(global_test_pixel_count, min) \n",
        "test_images_label_4_mixed = np.zeros(shape = (min,)) \n",
        "for i in range(0, min, 1):\n",
        "  test_images_label_4_mixed[i]= (label_8_test_images[i] + label_9_test_images[i]) * 0.5 "
      ],
      "metadata": {
        "id": "CcPMLP2w3ifM"
      },
      "execution_count": 68,
      "outputs": []
    },
    {
      "cell_type": "code",
      "source": [
        "print(global_test_pixel_count)"
      ],
      "metadata": {
        "colab": {
          "base_uri": "https://localhost:8080/"
        },
        "id": "Ej84kKt8_DjG",
        "outputId": "6c8cd17b-d647-426b-ef9f-88d7f53fdee6"
      },
      "execution_count": 69,
      "outputs": [
        {
          "output_type": "stream",
          "name": "stdout",
          "text": [
            "[768320. 791840. 699328. 751072. 763616.]\n"
          ]
        }
      ]
    },
    {
      "cell_type": "markdown",
      "source": [
        "Reshape the train images for each new label "
      ],
      "metadata": {
        "id": "7g3GGwcWvGBQ"
      }
    },
    {
      "cell_type": "code",
      "source": [
        "train_images_label_0_mixed = np.reshape(train_images_label_0_mixed, (-1, 784))\n",
        "train_images_label_1_mixed = np.reshape(train_images_label_1_mixed, (-1, 784))\n",
        "train_images_label_2_mixed = np.reshape(train_images_label_2_mixed, (-1, 784))\n",
        "train_images_label_3_mixed = np.reshape(train_images_label_3_mixed, (-1, 784))\n",
        "train_images_label_4_mixed = np.reshape(train_images_label_4_mixed, (-1, 784))\n",
        "print(train_images_label_0_mixed.shape)\n",
        "print(train_images_label_1_mixed.shape)\n",
        "print(train_images_label_2_mixed.shape)\n",
        "print(train_images_label_3_mixed.shape)\n",
        "print(train_images_label_4_mixed.shape)"
      ],
      "metadata": {
        "colab": {
          "base_uri": "https://localhost:8080/"
        },
        "id": "OhZiRmWxlnQS",
        "outputId": "d68a36f5-5d09-4c42-9ed0-e137c4a52021"
      },
      "execution_count": 70,
      "outputs": [
        {
          "output_type": "stream",
          "name": "stdout",
          "text": [
            "(5923, 784)\n",
            "(5958, 784)\n",
            "(5421, 784)\n",
            "(5918, 784)\n",
            "(5851, 784)\n"
          ]
        }
      ]
    },
    {
      "cell_type": "markdown",
      "source": [
        "Reshape the test images for each new label and verify that the dimensions are correct"
      ],
      "metadata": {
        "id": "U6Czxhi14fSm"
      }
    },
    {
      "cell_type": "code",
      "source": [
        "test_images_label_0_mixed = np.reshape(test_images_label_0_mixed, (-1, 784))\n",
        "test_images_label_1_mixed = np.reshape(test_images_label_1_mixed, (-1, 784))\n",
        "test_images_label_2_mixed = np.reshape(test_images_label_2_mixed, (-1, 784))\n",
        "test_images_label_3_mixed = np.reshape(test_images_label_3_mixed, (-1, 784))\n",
        "test_images_label_4_mixed = np.reshape(test_images_label_4_mixed, (-1, 784))\n",
        "print(test_images_label_0_mixed.shape)\n",
        "print(test_images_label_1_mixed.shape)\n",
        "print(test_images_label_2_mixed.shape)\n",
        "print(test_images_label_3_mixed.shape)\n",
        "print(test_images_label_4_mixed.shape)"
      ],
      "metadata": {
        "colab": {
          "base_uri": "https://localhost:8080/"
        },
        "id": "Huc7ljfs4AbO",
        "outputId": "6c3c1fe5-9cde-41ad-a2c0-8c35760dd984"
      },
      "execution_count": 71,
      "outputs": [
        {
          "output_type": "stream",
          "name": "stdout",
          "text": [
            "(980, 784)\n",
            "(1010, 784)\n",
            "(892, 784)\n",
            "(958, 784)\n",
            "(974, 784)\n"
          ]
        }
      ]
    },
    {
      "cell_type": "markdown",
      "source": [
        "Choose two random images from the new train dataset and display them "
      ],
      "metadata": {
        "id": "raqMqr1qvX0h"
      }
    },
    {
      "cell_type": "code",
      "source": [
        "import matplotlib.pyplot as plt\n",
        "example_images_label_0 = train_images_label_0_mixed[np.random.choice(train_images_label_0_mixed.shape[0], 2)]\n",
        "example_images_label_0 = np.reshape(example_images_label_0, (28 * 2, 28)) \n",
        "\n",
        "example_images_label_1 = train_images_label_1_mixed[np.random.choice(train_images_label_1_mixed.shape[0], 2)]\n",
        "example_images_label_1 = np.reshape(example_images_label_1, (28 * 2, 28)) \n",
        "\n",
        "example_images_label_2 = train_images_label_2_mixed[np.random.choice(train_images_label_2_mixed.shape[0], 2)]\n",
        "example_images_label_2 = np.reshape(example_images_label_2, (28 * 2, 28)) \n",
        "\n",
        "example_images_label_3 = train_images_label_3_mixed[np.random.choice(train_images_label_3_mixed.shape[0], 2)]\n",
        "example_images_label_3 = np.reshape(example_images_label_3, (28 * 2, 28)) \n",
        "\n",
        "example_images_label_4 = train_images_label_4_mixed[np.random.choice(train_images_label_4_mixed.shape[0], 2)]\n",
        "example_images_label_4 = np.reshape(example_images_label_4, (28 * 2, 28)) \n",
        "\n",
        "fig, (axis0, axis1, axis2, axis3, axis4) = plt.subplots(1, 5) \n",
        "fig.set_size_inches(15,15)\n",
        "axis0.imshow(example_images_label_0, cmap = 'Greys')\n",
        "axis0.title.set_text(\"label 0\")\n",
        "axis1.imshow(example_images_label_1, cmap = 'Greys')\n",
        "axis1.title.set_text(\"label 1\")\n",
        "axis2.imshow(example_images_label_2, cmap = 'Greys')\n",
        "axis2.title.set_text(\"label 2\")\n",
        "axis3.imshow(example_images_label_3, cmap = 'Greys')\n",
        "axis3.title.set_text(\"label 3\")\n",
        "axis4.imshow(example_images_label_4, cmap = 'Greys')\n",
        "axis4.title.set_text(\"label 4\")\n"
      ],
      "metadata": {
        "id": "VdFMn2I2cFFZ",
        "colab": {
          "base_uri": "https://localhost:8080/",
          "height": 353
        },
        "outputId": "70d15ca2-eaf3-4a5a-9a66-03ecc56bf222"
      },
      "execution_count": 72,
      "outputs": [
        {
          "output_type": "display_data",
          "data": {
            "image/png": "[encoded data removed]",
            "text/plain": [
              "<Figure size 1080x1080 with 5 Axes>"
            ]
          },
          "metadata": {
            "needs_background": "light"
          }
        }
      ]
    },
    {
      "cell_type": "markdown",
      "source": [
        "Display some test images to verify that the images are combined correctly "
      ],
      "metadata": {
        "id": "Ejb_7zVCPne1"
      }
    },
    {
      "cell_type": "code",
      "source": [
        "import matplotlib.pyplot as plt\n",
        "example_test_images_label_0 = test_images_label_0_mixed[np.random.choice(test_images_label_0_mixed.shape[0], 2)]\n",
        "example_test_images_label_0 = np.reshape(example_test_images_label_0, (28 * 2, 28)) \n",
        "\n",
        "example_test_images_label_1 = test_images_label_1_mixed[np.random.choice(test_images_label_1_mixed.shape[0], 2)]\n",
        "example_test_images_label_1 = np.reshape(example_test_images_label_1, (28 * 2, 28)) \n",
        "\n",
        "example_test_images_label_2 = test_images_label_2_mixed[np.random.choice(test_images_label_2_mixed.shape[0], 2)]\n",
        "example_test_images_label_2 = np.reshape(example_test_images_label_2, (28 * 2, 28)) \n",
        "\n",
        "example_test_images_label_3 = test_images_label_3_mixed[np.random.choice(test_images_label_3_mixed.shape[0], 2)]\n",
        "example_test_images_label_3 = np.reshape(example_test_images_label_3, (28 * 2, 28)) \n",
        "\n",
        "example_test_images_label_4 = test_images_label_4_mixed[np.random.choice(test_images_label_4_mixed.shape[0], 2)]\n",
        "example_test_images_label_4 = np.reshape(example_test_images_label_4, (28 * 2, 28)) \n",
        "\n",
        "fig, (axis0, axis1, axis2, axis3, axis4) = plt.subplots(1, 5) \n",
        "fig.set_size_inches(15, 15)\n",
        "axis0.imshow(example_test_images_label_0, cmap = 'Greys')\n",
        "axis0.title.set_text(\"label 0\")\n",
        "axis1.imshow(example_test_images_label_1, cmap = 'Greys')\n",
        "axis1.title.set_text(\"label 1\")\n",
        "axis2.imshow(example_test_images_label_2, cmap = 'Greys')\n",
        "axis2.title.set_text(\"label 2\")\n",
        "axis3.imshow(example_test_images_label_3, cmap = 'Greys')\n",
        "axis3.title.set_text(\"label 3\")\n",
        "axis4.imshow(example_test_images_label_4, cmap = 'Greys')\n",
        "axis4.title.set_text(\"label 4\")"
      ],
      "metadata": {
        "colab": {
          "base_uri": "https://localhost:8080/",
          "height": 353
        },
        "id": "PIb1erCUPnFj",
        "outputId": "b2cac18d-6fc5-496a-e0ce-6691a7802e7a"
      },
      "execution_count": 73,
      "outputs": [
        {
          "output_type": "display_data",
          "data": {
            "image/png": "[encoded data removed]",
            "text/plain": [
              "<Figure size 1080x1080 with 5 Axes>"
            ]
          },
          "metadata": {
            "needs_background": "light"
          }
        }
      ]
    },
    {
      "cell_type": "markdown",
      "source": [
        "Concatenate the train images for each new set of images and reshape it to the original dimension (column count = 784)"
      ],
      "metadata": {
        "id": "uHZ8PWJCvh2r"
      }
    },
    {
      "cell_type": "code",
      "source": [
        "train_images = np.array([])\n",
        "train_images = np.append(train_images, train_images_label_0_mixed)\n",
        "train_images = np.append(train_images, train_images_label_1_mixed)\n",
        "train_images = np.append(train_images, train_images_label_2_mixed)\n",
        "train_images = np.append(train_images, train_images_label_3_mixed)\n",
        "train_images = np.append(train_images, train_images_label_4_mixed)\n",
        "train_images = np.reshape(train_images, (-1, 784))\n",
        "train_images.shape "
      ],
      "metadata": {
        "id": "hmyD93SRsQ-Q",
        "colab": {
          "base_uri": "https://localhost:8080/"
        },
        "outputId": "87fcef9c-8211-4988-e376-8fdaacd97add"
      },
      "execution_count": 74,
      "outputs": [
        {
          "output_type": "execute_result",
          "data": {
            "text/plain": [
              "(29071, 784)"
            ]
          },
          "metadata": {},
          "execution_count": 74
        }
      ]
    },
    {
      "cell_type": "markdown",
      "source": [
        "Generate a label for each image in train_images "
      ],
      "metadata": {
        "id": "p5S1UC2uv2_k"
      }
    },
    {
      "cell_type": "code",
      "source": [
        "global_train_image_count = global_train_pixel_count / 784  # an image has 28*28 = 784 pixles \n",
        "print(global_train_image_count)"
      ],
      "metadata": {
        "colab": {
          "base_uri": "https://localhost:8080/"
        },
        "id": "wwHxBMU6AoM-",
        "outputId": "4ca3e257-09f1-4c56-a28b-263a2ed4b9d6"
      },
      "execution_count": 75,
      "outputs": [
        {
          "output_type": "stream",
          "name": "stdout",
          "text": [
            "[5923. 5958. 5421. 5918. 5851.]\n"
          ]
        }
      ]
    },
    {
      "cell_type": "code",
      "source": [
        "train_labels = np.array([])\n",
        "train_labels = np.append(train_labels, np.zeros(shape = 5923))  # these shape values are after after the global image count is available \n",
        "train_labels = np.append(train_labels, np.ones(shape = 5958)) \n",
        "train_labels = np.append(train_labels, np.full((5421, ), 2))\n",
        "train_labels = np.append(train_labels, np.full((5918, ), 3))\n",
        "train_labels = np.append(train_labels, np.full((5851, ), 4))\n",
        "train_labels.shape "
      ],
      "metadata": {
        "colab": {
          "base_uri": "https://localhost:8080/"
        },
        "id": "aL10MoUFaHbO",
        "outputId": "6e34bf3c-e92a-4344-de59-34f05aaa17ac"
      },
      "execution_count": 76,
      "outputs": [
        {
          "output_type": "execute_result",
          "data": {
            "text/plain": [
              "(29071,)"
            ]
          },
          "metadata": {},
          "execution_count": 76
        }
      ]
    },
    {
      "cell_type": "markdown",
      "source": [
        "Concatenate the pixels of all test images for each new label \n"
      ],
      "metadata": {
        "id": "IcrF7fpsw7bQ"
      }
    },
    {
      "cell_type": "code",
      "source": [
        "test_images = np.array([])\n",
        "test_images = np.append(test_images, test_images_label_0_mixed)\n",
        "test_images = np.append(test_images, test_images_label_1_mixed)\n",
        "test_images = np.append(test_images, test_images_label_2_mixed)\n",
        "test_images = np.append(test_images, test_images_label_3_mixed)\n",
        "test_images = np.append(test_images, test_images_label_4_mixed)\n",
        "test_images = np.reshape(test_images, (-1, 784))\n",
        "test_images.shape "
      ],
      "metadata": {
        "id": "S-WEg-V944L1",
        "colab": {
          "base_uri": "https://localhost:8080/"
        },
        "outputId": "f63ea154-b32b-4731-e5cf-5218709cd25c"
      },
      "execution_count": 77,
      "outputs": [
        {
          "output_type": "execute_result",
          "data": {
            "text/plain": [
              "(4814, 784)"
            ]
          },
          "metadata": {},
          "execution_count": 77
        }
      ]
    },
    {
      "cell_type": "markdown",
      "source": [
        "Generate labels for each image in the test_images "
      ],
      "metadata": {
        "id": "KBoggiDi590i"
      }
    },
    {
      "cell_type": "code",
      "source": [
        "global_test_image_count = global_test_pixel_count / 784 \n",
        "print(global_test_image_count)"
      ],
      "metadata": {
        "colab": {
          "base_uri": "https://localhost:8080/"
        },
        "id": "srMexZOfAili",
        "outputId": "05a37583-fcf2-4777-c927-b46e54a0d71b"
      },
      "execution_count": 78,
      "outputs": [
        {
          "output_type": "stream",
          "name": "stdout",
          "text": [
            "[ 980. 1010.  892.  958.  974.]\n"
          ]
        }
      ]
    },
    {
      "cell_type": "code",
      "source": [
        "test_labels = np.array([])\n",
        "test_labels = np.append(test_labels, np.zeros(shape = 980))\n",
        "test_labels = np.append(test_labels, np.ones(shape = 1010)) \n",
        "test_labels = np.append(test_labels, np.full((892, ), 2))\n",
        "test_labels = np.append(test_labels, np.full((958, ), 3))\n",
        "test_labels = np.append(test_labels, np.full((974, ), 4))\n",
        "test_labels.shape "
      ],
      "metadata": {
        "colab": {
          "base_uri": "https://localhost:8080/"
        },
        "id": "oFbixIE_564m",
        "outputId": "af627977-cd1b-4511-bfc1-d4fad8edcb7b"
      },
      "execution_count": 79,
      "outputs": [
        {
          "output_type": "execute_result",
          "data": {
            "text/plain": [
              "(4814,)"
            ]
          },
          "metadata": {},
          "execution_count": 79
        }
      ]
    },
    {
      "cell_type": "markdown",
      "source": [
        "Shuffle the train_images and test_images with the same random sequence \n",
        "The train images and labels are order in ascending order. Very low validation \n",
        "accuracy will occur if the data is not shuffled. "
      ],
      "metadata": {
        "id": "p-ga_5jHWIWO"
      }
    },
    {
      "cell_type": "code",
      "source": [
        "import numpy as np\n",
        "from sklearn import utils\n",
        "# train_images and train_labels share a shuffling sequence \n",
        "train_images, train_labels = utils.shuffle(train_images, train_labels)\n",
        "print(train_images)\n",
        "print(train_labels)"
      ],
      "metadata": {
        "colab": {
          "base_uri": "https://localhost:8080/"
        },
        "id": "Lx2t2bdFh6or",
        "outputId": "e6a49d12-7e1e-4890-f447-612baa2a74ba"
      },
      "execution_count": 80,
      "outputs": [
        {
          "output_type": "stream",
          "name": "stdout",
          "text": [
            "[[0. 0. 0. ... 0. 0. 0.]\n",
            " [0. 0. 0. ... 0. 0. 0.]\n",
            " [0. 0. 0. ... 0. 0. 0.]\n",
            " ...\n",
            " [0. 0. 0. ... 0. 0. 0.]\n",
            " [0. 0. 0. ... 0. 0. 0.]\n",
            " [0. 0. 0. ... 0. 0. 0.]]\n",
            "[2. 3. 1. ... 3. 3. 3.]\n"
          ]
        }
      ]
    },
    {
      "cell_type": "markdown",
      "source": [
        "Data preprocessing results: \n",
        "\n",
        "train_images contains all the images for training with the corresponding train_labels. train_iamges has 29071 rows and 784 colums. Each row is an image.\n",
        "train_labels has 29071 rows and 1 colum, where each row is a label (0 to 4).  \n",
        "\n",
        "test_images contains all the images for testing with the corresponding test_labels. test_images has 4814 rows and 784 colums. Each row is an image. test_labels has 4814 rows and 1 colum. Each row is a label (0 to 4). \n",
        "\n",
        "Values in the train_images and test_images arrays are within [0, 1]. "
      ],
      "metadata": {
        "id": "6x8PQXONCKlP"
      }
    },
    {
      "cell_type": "markdown",
      "source": [
        "# Task 3"
      ],
      "metadata": {
        "id": "c1JiYQK7DbEw"
      }
    },
    {
      "cell_type": "markdown",
      "source": [
        "\n",
        "Design a neural network model to classify the 5 classes in the new dataset, and optimize it by tuning its hyper-parameters and trying our learned regualization techniques (such as L1 regularization, L2 regularization, dropout). \n",
        "\n",
        "Your task: For your final (namely, optimized) neural network model, submit its code, and show the model's performance (including loss value and accuracy) for training, validation and testing. (For training performance and validation performance, illustrate them using figures, where the x-axis is the number of training epochs, and the y-axis is the loss or accuracy. For testing performance, just show the values of loss and accuracy.) Also, answer the questions: in this process of optimizing your model, did you observe underfitting? Did you observe overfitting? Did you try the reguliazation techniques? Did they help? (10 points)"
      ],
      "metadata": {
        "id": "EBv7s984C4aP"
      }
    },
    {
      "cell_type": "markdown",
      "metadata": {
        "id": "tUMClzbUd7_D"
      },
      "source": [
        "Build the model "
      ]
    },
    {
      "cell_type": "code",
      "execution_count": 81,
      "metadata": {
        "id": "hZTK9JfDd7_E",
        "colab": {
          "base_uri": "https://localhost:8080/"
        },
        "outputId": "5108e1b9-7848-496d-8d72-b0c93c5bd280"
      },
      "outputs": [
        {
          "output_type": "stream",
          "name": "stdout",
          "text": [
            "Epoch 1/20\n",
            "182/182 [==============================] - 4s 21ms/step - loss: 2.4690 - accuracy: 0.8425 - val_loss: 1.7824 - val_accuracy: 0.9486\n",
            "Epoch 2/20\n",
            "182/182 [==============================] - 4s 20ms/step - loss: 1.5655 - accuracy: 0.9378 - val_loss: 1.3109 - val_accuracy: 0.9567\n",
            "Epoch 3/20\n",
            "182/182 [==============================] - 4s 20ms/step - loss: 1.1898 - accuracy: 0.9478 - val_loss: 1.0343 - val_accuracy: 0.9608\n",
            "Epoch 4/20\n",
            "182/182 [==============================] - 4s 20ms/step - loss: 0.9635 - accuracy: 0.9536 - val_loss: 0.8649 - val_accuracy: 0.9618\n",
            "Epoch 5/20\n",
            "182/182 [==============================] - 4s 20ms/step - loss: 0.8109 - accuracy: 0.9577 - val_loss: 0.7368 - val_accuracy: 0.9646\n",
            "Epoch 6/20\n",
            "182/182 [==============================] - 4s 20ms/step - loss: 0.6948 - accuracy: 0.9596 - val_loss: 0.6336 - val_accuracy: 0.9646\n",
            "Epoch 7/20\n",
            "182/182 [==============================] - 4s 20ms/step - loss: 0.6033 - accuracy: 0.9608 - val_loss: 0.5543 - val_accuracy: 0.9658\n",
            "Epoch 8/20\n",
            "182/182 [==============================] - 4s 20ms/step - loss: 0.5270 - accuracy: 0.9628 - val_loss: 0.4850 - val_accuracy: 0.9668\n",
            "Epoch 9/20\n",
            "182/182 [==============================] - 4s 20ms/step - loss: 0.4637 - accuracy: 0.9660 - val_loss: 0.4345 - val_accuracy: 0.9661\n",
            "Epoch 10/20\n",
            "182/182 [==============================] - 4s 20ms/step - loss: 0.4145 - accuracy: 0.9678 - val_loss: 0.3893 - val_accuracy: 0.9689\n",
            "Epoch 11/20\n",
            "182/182 [==============================] - 4s 20ms/step - loss: 0.3751 - accuracy: 0.9682 - val_loss: 0.3550 - val_accuracy: 0.9697\n",
            "Epoch 12/20\n",
            "182/182 [==============================] - 4s 20ms/step - loss: 0.3410 - accuracy: 0.9706 - val_loss: 0.3299 - val_accuracy: 0.9670\n",
            "Epoch 13/20\n",
            "182/182 [==============================] - 4s 20ms/step - loss: 0.3140 - accuracy: 0.9706 - val_loss: 0.3029 - val_accuracy: 0.9704\n",
            "Epoch 14/20\n",
            "182/182 [==============================] - 4s 20ms/step - loss: 0.2924 - accuracy: 0.9718 - val_loss: 0.2785 - val_accuracy: 0.9721\n",
            "Epoch 15/20\n",
            "182/182 [==============================] - 4s 20ms/step - loss: 0.2707 - accuracy: 0.9738 - val_loss: 0.2605 - val_accuracy: 0.9733\n",
            "Epoch 16/20\n",
            "182/182 [==============================] - 4s 20ms/step - loss: 0.2549 - accuracy: 0.9737 - val_loss: 0.2461 - val_accuracy: 0.9740\n",
            "Epoch 17/20\n",
            "182/182 [==============================] - 4s 22ms/step - loss: 0.2398 - accuracy: 0.9759 - val_loss: 0.2350 - val_accuracy: 0.9740\n",
            "Epoch 18/20\n",
            "182/182 [==============================] - 4s 20ms/step - loss: 0.2273 - accuracy: 0.9755 - val_loss: 0.2314 - val_accuracy: 0.9737\n",
            "Epoch 19/20\n",
            "182/182 [==============================] - 4s 20ms/step - loss: 0.2149 - accuracy: 0.9769 - val_loss: 0.2187 - val_accuracy: 0.9732\n",
            "Epoch 20/20\n",
            "182/182 [==============================] - 4s 20ms/step - loss: 0.2060 - accuracy: 0.9779 - val_loss: 0.2065 - val_accuracy: 0.9745\n"
          ]
        }
      ],
      "source": [
        "from tensorflow import keras\n",
        "from tensorflow.keras import layers\n",
        "from tensorflow.keras import regularizers\n",
        "\n",
        "def get_model():\n",
        "    model = keras.Sequential([\n",
        "    layers.Dense(512, kernel_regularizer=regularizers.l2(0.002), activation=\"relu\"),\n",
        "    layers.Dropout(0.3), \n",
        "    layers.Dense(512, kernel_regularizer=regularizers.l2(0.002), activation=\"relu\"),\n",
        "    layers.Dropout(0.3), \n",
        "    layers.Dense(5, activation=\"softmax\")\n",
        "    ])\n",
        "\n",
        "    opt = keras.optimizers.RMSprop(learning_rate=0.0001)\n",
        "    model.compile(optimizer=opt,\n",
        "                  loss=\"sparse_categorical_crossentropy\",\n",
        "                  metrics=[\"accuracy\"])\n",
        "    return model\n",
        "\n",
        "model = get_model()\n",
        "history = model.fit(\n",
        "    train_images, train_labels,\n",
        "    epochs=20,\n",
        "    batch_size=128,\n",
        "    validation_split=0.2)"
      ]
    },
    {
      "cell_type": "markdown",
      "metadata": {
        "id": "5nHKT9NDd7_E"
      },
      "source": [
        "**Plotting a validation accuracy comparison**"
      ]
    },
    {
      "cell_type": "code",
      "execution_count": 82,
      "metadata": {
        "id": "Q25zXEmvd7_F",
        "colab": {
          "base_uri": "https://localhost:8080/",
          "height": 573
        },
        "outputId": "c5b3a4d7-f8d1-42a3-8243-c3bbda70aabb"
      },
      "outputs": [
        {
          "output_type": "display_data",
          "data": {
            "image/png": "[encoded data removed]",
            "text/plain": [
              "<Figure size 432x288 with 1 Axes>"
            ]
          },
          "metadata": {
            "needs_background": "light"
          }
        },
        {
          "output_type": "display_data",
          "data": {
            "image/png": "[encoded data removed]",
            "text/plain": [
              "<Figure size 432x288 with 1 Axes>"
            ]
          },
          "metadata": {
            "needs_background": "light"
          }
        }
      ],
      "source": [
        "import matplotlib.pyplot as plt\n",
        "# summarize history for accuracy\n",
        "plt.plot(history.history['accuracy'])\n",
        "plt.plot(history.history['val_accuracy'])\n",
        "plt.title('model accuracy')\n",
        "plt.ylabel('accuracy')\n",
        "plt.xlabel('epoch')\n",
        "plt.legend(['train', 'validation'], loc='upper left')\n",
        "plt.show()\n",
        "# summarize history for loss\n",
        "plt.plot(history.history['loss'])\n",
        "plt.plot(history.history['val_loss'])\n",
        "plt.title('model loss')\n",
        "plt.ylabel('loss')\n",
        "plt.xlabel('epoch')\n",
        "plt.legend(['train', 'validation'], loc='upper left')\n",
        "plt.show()\n"
      ]
    },
    {
      "cell_type": "markdown",
      "source": [
        "Test the test_images, test_labels data "
      ],
      "metadata": {
        "id": "w0_C1nTunaLg"
      }
    },
    {
      "cell_type": "code",
      "source": [
        "results = model.evaluate(test_images, test_labels)"
      ],
      "metadata": {
        "id": "4GMNxt8DnfRT",
        "colab": {
          "base_uri": "https://localhost:8080/"
        },
        "outputId": "18d001b4-e6b9-47c3-a553-5c404cb2fbe1"
      },
      "execution_count": 83,
      "outputs": [
        {
          "output_type": "stream",
          "name": "stdout",
          "text": [
            "151/151 [==============================] - 1s 4ms/step - loss: 17.1391 - accuracy: 0.9543\n"
          ]
        }
      ]
    },
    {
      "cell_type": "code",
      "source": [
        "results "
      ],
      "metadata": {
        "colab": {
          "base_uri": "https://localhost:8080/"
        },
        "id": "r-hwmzcaGhtB",
        "outputId": "cf36e3ed-6445-4153-83c3-ef0b7c646978"
      },
      "execution_count": 84,
      "outputs": [
        {
          "output_type": "execute_result",
          "data": {
            "text/plain": [
              "[17.13910675048828, 0.9542999863624573]"
            ]
          },
          "metadata": {},
          "execution_count": 84
        }
      ]
    },
    {
      "cell_type": "markdown",
      "source": [
        "High loss and high accuracy can be caused by one or a few outliers. The loss function will increase dramatically because of these outliers. But it does not affect the model learn from other images, so the resulting accuracy is still high. "
      ],
      "metadata": {
        "id": "j9Xx8hIhGlhs"
      }
    },
    {
      "cell_type": "code",
      "source": [
        "model.predict(test_images)"
      ],
      "metadata": {
        "colab": {
          "base_uri": "https://localhost:8080/"
        },
        "id": "ZXZsZlEc1Ml0",
        "outputId": "e4ca50b9-4bfe-43d5-bbf5-f425ad58289a"
      },
      "execution_count": 85,
      "outputs": [
        {
          "output_type": "execute_result",
          "data": {
            "text/plain": [
              "array([[1., 0., 0., 0., 0.],\n",
              "       [1., 0., 0., 0., 0.],\n",
              "       [1., 0., 0., 0., 0.],\n",
              "       ...,\n",
              "       [0., 0., 0., 0., 1.],\n",
              "       [0., 0., 0., 0., 1.],\n",
              "       [0., 0., 0., 0., 1.]], dtype=float32)"
            ]
          },
          "metadata": {},
          "execution_count": 85
        }
      ]
    },
    {
      "cell_type": "markdown",
      "source": [
        "In this process of optimizing your model, did you observe underfitting? Did you observe overfitting? Did you try the reguliazation techniques? Did they help?\n",
        "\n",
        "No underfitting oberved. Overfitting observed. I tried l2 regulaization and Dropout. Yes they help curb overfitting. One catch is that the data needs to be shuffled before training, otherwise, the training accuracy will be high but the validation accuracy will be very low. "
      ],
      "metadata": {
        "id": "YKBqx2qA0Ycy"
      }
    }
  ],
  "metadata": {
    "colab": {
      "collapsed_sections": [],
      "name": "CSCE636HW3.ipynb",
      "provenance": [],
      "include_colab_link": true
    },
    "kernelspec": {
      "display_name": "Python 3",
      "language": "python",
      "name": "python3"
    },
    "language_info": {
      "codemirror_mode": {
        "name": "ipython",
        "version": 3
      },
      "file_extension": ".py",
      "mimetype": "text/x-python",
      "name": "python",
      "nbconvert_exporter": "python",
      "pygments_lexer": "ipython3",
      "version": "3.7.0"
    }
  },
  "nbformat": 4,
  "nbformat_minor": 0
}