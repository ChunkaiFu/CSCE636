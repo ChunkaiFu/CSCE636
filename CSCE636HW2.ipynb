{
  "nbformat": 4,
  "nbformat_minor": 0,
  "metadata": {
    "colab": {
      "name": "CSCE636HW2.ipynb",
      "provenance": [],
      "collapsed_sections": [],
      "authorship_tag": "ABX9TyPQ069JPtXygdu7AhtxbNyX",
      "include_colab_link": true
    },
    "kernelspec": {
      "name": "python3",
      "display_name": "Python 3"
    },
    "language_info": {
      "name": "python"
    }
  },
  "cells": [
    {
      "cell_type": "markdown",
      "metadata": {
        "id": "view-in-github",
        "colab_type": "text"
      },
      "source": [
        "<a href=\"https://colab.research.google.com/github/ChunkaiFu/CSCE636HW2/blob/main/CSCE636HW2.ipynb\" target=\"_parent\"><img src=\"https://colab.research.google.com/assets/colab-badge.svg\" alt=\"Open In Colab\"/></a>"
      ]
    },
    {
      "cell_type": "markdown",
      "source": [
        "**Question 1:** Use the \"GraidentTape API\" to find the derivative of the function f(x) = sin(x) for x = 0, 0.1, 0.2 and 0.3. Submit your Jupyter notebook that shows both the code and the result you got. (10 points)\n"
      ],
      "metadata": {
        "id": "rGlNLOWNzDi7"
      }
    },
    {
      "cell_type": "code",
      "execution_count": null,
      "metadata": {
        "id": "e1_Mn2wPpr06"
      },
      "outputs": [],
      "source": [
        "import tensorflow as tf "
      ]
    },
    {
      "cell_type": "markdown",
      "source": [
        "Define tensorflow variable x, GradientTape and calculate the gradient "
      ],
      "metadata": {
        "id": "KUa1Zmf_3Cym"
      }
    },
    {
      "cell_type": "code",
      "source": [
        "x = tf.Variable([[0.], [0.1], [0.2], [0.3]])\n",
        "with tf.GradientTape() as tape: \n",
        "  fx = tf.sin(x)\n",
        "gradient = tape.gradient(fx, x)"
      ],
      "metadata": {
        "id": "WhAHXpyyzONo"
      },
      "execution_count": null,
      "outputs": []
    },
    {
      "cell_type": "markdown",
      "source": [
        "Print the result "
      ],
      "metadata": {
        "id": "oWvtoJDx3Opr"
      }
    },
    {
      "cell_type": "code",
      "source": [
        "print(gradient.numpy())"
      ],
      "metadata": {
        "colab": {
          "base_uri": "https://localhost:8080/"
        },
        "id": "EpKTKS8-zk5i",
        "outputId": "64df73d9-f9ed-425c-8d00-a71fa7f96d99"
      },
      "execution_count": null,
      "outputs": [
        {
          "output_type": "stream",
          "name": "stdout",
          "text": [
            "[[1.       ]\n",
            " [0.9950042]\n",
            " [0.9800666]\n",
            " [0.9553365]]\n"
          ]
        }
      ]
    },
    {
      "cell_type": "markdown",
      "source": [
        "**Question 2:** For the task \"Classifying movie reviews: A binary classification example\", tune the hyper-parameters of the model (such as changing the number of layers, changing the sizes of layers, changing the optimizer, changing the learning rate, etc.), and see if you can improve the model's performance. Submit a Jupyter notebook where you clearly show the code with the best hyper-parameters that you have found, along with its performance on training, validation and test sets. (10 points) \n"
      ],
      "metadata": {
        "id": "gdarHdJQ3raf"
      }
    },
    {
      "cell_type": "code",
      "source": [
        "from tensorflow.keras.datasets import imdb\n",
        "(train_data, train_labels), (test_data, test_labels) = imdb.load_data(\n",
        "    num_words=10000)"
      ],
      "metadata": {
        "id": "vdqq8n4N3syn"
      },
      "execution_count": null,
      "outputs": []
    },
    {
      "cell_type": "code",
      "source": [
        "train_data[0]"
      ],
      "metadata": {
        "colab": {
          "base_uri": "https://localhost:8080/"
        },
        "id": "Pxi1020O5JgN",
        "outputId": "0592d319-8742-42be-f8a5-f48ee243e3d1"
      },
      "execution_count": null,
      "outputs": [
        {
          "output_type": "execute_result",
          "data": {
            "text/plain": [
              "[1,\n",
              " 14,\n",
              " 22,\n",
              " 16,\n",
              " 43,\n",
              " 530,\n",
              " 973,\n",
              " 1622,\n",
              " 1385,\n",
              " 65,\n",
              " 458,\n",
              " 4468,\n",
              " 66,\n",
              " 3941,\n",
              " 4,\n",
              " 173,\n",
              " 36,\n",
              " 256,\n",
              " 5,\n",
              " 25,\n",
              " 100,\n",
              " 43,\n",
              " 838,\n",
              " 112,\n",
              " 50,\n",
              " 670,\n",
              " 2,\n",
              " 9,\n",
              " 35,\n",
              " 480,\n",
              " 284,\n",
              " 5,\n",
              " 150,\n",
              " 4,\n",
              " 172,\n",
              " 112,\n",
              " 167,\n",
              " 2,\n",
              " 336,\n",
              " 385,\n",
              " 39,\n",
              " 4,\n",
              " 172,\n",
              " 4536,\n",
              " 1111,\n",
              " 17,\n",
              " 546,\n",
              " 38,\n",
              " 13,\n",
              " 447,\n",
              " 4,\n",
              " 192,\n",
              " 50,\n",
              " 16,\n",
              " 6,\n",
              " 147,\n",
              " 2025,\n",
              " 19,\n",
              " 14,\n",
              " 22,\n",
              " 4,\n",
              " 1920,\n",
              " 4613,\n",
              " 469,\n",
              " 4,\n",
              " 22,\n",
              " 71,\n",
              " 87,\n",
              " 12,\n",
              " 16,\n",
              " 43,\n",
              " 530,\n",
              " 38,\n",
              " 76,\n",
              " 15,\n",
              " 13,\n",
              " 1247,\n",
              " 4,\n",
              " 22,\n",
              " 17,\n",
              " 515,\n",
              " 17,\n",
              " 12,\n",
              " 16,\n",
              " 626,\n",
              " 18,\n",
              " 2,\n",
              " 5,\n",
              " 62,\n",
              " 386,\n",
              " 12,\n",
              " 8,\n",
              " 316,\n",
              " 8,\n",
              " 106,\n",
              " 5,\n",
              " 4,\n",
              " 2223,\n",
              " 5244,\n",
              " 16,\n",
              " 480,\n",
              " 66,\n",
              " 3785,\n",
              " 33,\n",
              " 4,\n",
              " 130,\n",
              " 12,\n",
              " 16,\n",
              " 38,\n",
              " 619,\n",
              " 5,\n",
              " 25,\n",
              " 124,\n",
              " 51,\n",
              " 36,\n",
              " 135,\n",
              " 48,\n",
              " 25,\n",
              " 1415,\n",
              " 33,\n",
              " 6,\n",
              " 22,\n",
              " 12,\n",
              " 215,\n",
              " 28,\n",
              " 77,\n",
              " 52,\n",
              " 5,\n",
              " 14,\n",
              " 407,\n",
              " 16,\n",
              " 82,\n",
              " 2,\n",
              " 8,\n",
              " 4,\n",
              " 107,\n",
              " 117,\n",
              " 5952,\n",
              " 15,\n",
              " 256,\n",
              " 4,\n",
              " 2,\n",
              " 7,\n",
              " 3766,\n",
              " 5,\n",
              " 723,\n",
              " 36,\n",
              " 71,\n",
              " 43,\n",
              " 530,\n",
              " 476,\n",
              " 26,\n",
              " 400,\n",
              " 317,\n",
              " 46,\n",
              " 7,\n",
              " 4,\n",
              " 2,\n",
              " 1029,\n",
              " 13,\n",
              " 104,\n",
              " 88,\n",
              " 4,\n",
              " 381,\n",
              " 15,\n",
              " 297,\n",
              " 98,\n",
              " 32,\n",
              " 2071,\n",
              " 56,\n",
              " 26,\n",
              " 141,\n",
              " 6,\n",
              " 194,\n",
              " 7486,\n",
              " 18,\n",
              " 4,\n",
              " 226,\n",
              " 22,\n",
              " 21,\n",
              " 134,\n",
              " 476,\n",
              " 26,\n",
              " 480,\n",
              " 5,\n",
              " 144,\n",
              " 30,\n",
              " 5535,\n",
              " 18,\n",
              " 51,\n",
              " 36,\n",
              " 28,\n",
              " 224,\n",
              " 92,\n",
              " 25,\n",
              " 104,\n",
              " 4,\n",
              " 226,\n",
              " 65,\n",
              " 16,\n",
              " 38,\n",
              " 1334,\n",
              " 88,\n",
              " 12,\n",
              " 16,\n",
              " 283,\n",
              " 5,\n",
              " 16,\n",
              " 4472,\n",
              " 113,\n",
              " 103,\n",
              " 32,\n",
              " 15,\n",
              " 16,\n",
              " 5345,\n",
              " 19,\n",
              " 178,\n",
              " 32]"
            ]
          },
          "metadata": {},
          "execution_count": 26
        }
      ]
    },
    {
      "cell_type": "code",
      "source": [
        "train_labels[0]"
      ],
      "metadata": {
        "colab": {
          "base_uri": "https://localhost:8080/"
        },
        "id": "WkUnXl-75M9t",
        "outputId": "94f84b93-7f0c-4915-88ed-8a0196d69943"
      },
      "execution_count": null,
      "outputs": [
        {
          "output_type": "execute_result",
          "data": {
            "text/plain": [
              "1"
            ]
          },
          "metadata": {},
          "execution_count": 27
        }
      ]
    },
    {
      "cell_type": "code",
      "source": [
        "max([max(sequence) for sequence in train_data])"
      ],
      "metadata": {
        "colab": {
          "base_uri": "https://localhost:8080/"
        },
        "id": "sGVD-HD45Nyt",
        "outputId": "c41042a9-062f-42f6-96ff-fc84e21b8d87"
      },
      "execution_count": null,
      "outputs": [
        {
          "output_type": "execute_result",
          "data": {
            "text/plain": [
              "9999"
            ]
          },
          "metadata": {},
          "execution_count": 28
        }
      ]
    },
    {
      "cell_type": "code",
      "source": [
        "word_index = imdb.get_word_index()\n",
        "reverse_word_index = dict(\n",
        "    [(value, key) for (key, value) in word_index.items()])\n",
        "decoded_review = \" \".join(\n",
        "    [reverse_word_index.get(i - 3, \"?\") for i in train_data[0]])"
      ],
      "metadata": {
        "id": "oMpWwBtg5RkA"
      },
      "execution_count": null,
      "outputs": []
    },
    {
      "cell_type": "markdown",
      "source": [
        "Multi hot encoding. The work order and word frequency are lost. "
      ],
      "metadata": {
        "id": "EvJfehDZ937f"
      }
    },
    {
      "cell_type": "code",
      "source": [
        "import numpy as np\n",
        "def vectorize_sequences(sequences, dimension=10000):\n",
        "    results = np.zeros((len(sequences), dimension))\n",
        "    for i, sequence in enumerate(sequences):\n",
        "        for j in sequence:\n",
        "            results[i, j] = 1.\n",
        "    return results\n",
        "x_train = vectorize_sequences(train_data)\n",
        "x_test = vectorize_sequences(test_data)"
      ],
      "metadata": {
        "id": "eGVeYsPO5UJF"
      },
      "execution_count": null,
      "outputs": []
    },
    {
      "cell_type": "code",
      "source": [
        "x_train[0]"
      ],
      "metadata": {
        "colab": {
          "base_uri": "https://localhost:8080/"
        },
        "id": "0G_RL2-i5WiL",
        "outputId": "e2d5d5c1-4a18-431c-f661-5944838b2983"
      },
      "execution_count": null,
      "outputs": [
        {
          "output_type": "execute_result",
          "data": {
            "text/plain": [
              "array([0., 1., 1., ..., 0., 0., 0.])"
            ]
          },
          "metadata": {},
          "execution_count": 31
        }
      ]
    },
    {
      "cell_type": "code",
      "source": [
        "y_train = np.asarray(train_labels).astype(\"float32\")\n",
        "y_test = np.asarray(test_labels).astype(\"float32\")"
      ],
      "metadata": {
        "id": "mZJFBV315Y5_"
      },
      "execution_count": null,
      "outputs": []
    },
    {
      "cell_type": "code",
      "source": [
        "from tensorflow.python.keras.layers.core import Dropout\n",
        "from tensorflow import keras\n",
        "from tensorflow.keras import layers\n",
        "\n",
        "model = keras.Sequential([\n",
        "    layers.Dense(32, activation=\"relu\"),\n",
        "    layers.Dropout(0.3), \n",
        "    layers.Dense(32, activation=\"relu\"),\n",
        "    layers.Dropout(0.3), \n",
        "    layers.Dense(1, activation=\"sigmoid\")\n",
        "])"
      ],
      "metadata": {
        "id": "KPGQkYHP5b8I"
      },
      "execution_count": null,
      "outputs": []
    },
    {
      "cell_type": "code",
      "source": [
        "opt = keras.optimizers.RMSprop(learning_rate=0.0001)\n",
        "model.compile(optimizer=opt,\n",
        "              loss=\"binary_crossentropy\",\n",
        "              metrics=[\"accuracy\"])"
      ],
      "metadata": {
        "id": "n2Qp0taX5ejZ"
      },
      "execution_count": null,
      "outputs": []
    },
    {
      "cell_type": "markdown",
      "source": [
        "10000 out of 25000 reviews are used in training and the rest 15000 are used for validation "
      ],
      "metadata": {
        "id": "dS9CV_S8_dAM"
      }
    },
    {
      "cell_type": "code",
      "source": [
        "x_val = x_train[:5000]\n",
        "partial_x_train = x_train[5000:]\n",
        "y_val = y_train[:5000]\n",
        "partial_y_train = y_train[5000:]"
      ],
      "metadata": {
        "id": "wSrC9OQg5g7w"
      },
      "execution_count": null,
      "outputs": []
    },
    {
      "cell_type": "markdown",
      "source": [
        "Train the initial model "
      ],
      "metadata": {
        "id": "eWA09kG0_ovg"
      }
    },
    {
      "cell_type": "code",
      "source": [
        "history = model.fit(partial_x_train,\n",
        "                    partial_y_train,\n",
        "                    epochs=20,\n",
        "                    batch_size=512,\n",
        "                    validation_data=(x_val, y_val))"
      ],
      "metadata": {
        "colab": {
          "base_uri": "https://localhost:8080/"
        },
        "id": "0M292KIM5kBd",
        "outputId": "8578d4a3-daf1-45ff-d0ab-7d3a574e8795"
      },
      "execution_count": null,
      "outputs": [
        {
          "output_type": "stream",
          "name": "stdout",
          "text": [
            "Epoch 1/20\n",
            "40/40 [==============================] - 3s 54ms/step - loss: 0.6759 - accuracy: 0.5907 - val_loss: 0.6497 - val_accuracy: 0.7482\n",
            "Epoch 2/20\n",
            "40/40 [==============================] - 2s 49ms/step - loss: 0.6313 - accuracy: 0.6938 - val_loss: 0.5949 - val_accuracy: 0.8002\n",
            "Epoch 3/20\n",
            "40/40 [==============================] - 2s 48ms/step - loss: 0.5822 - accuracy: 0.7499 - val_loss: 0.5399 - val_accuracy: 0.8270\n",
            "Epoch 4/20\n",
            "40/40 [==============================] - 2s 48ms/step - loss: 0.5313 - accuracy: 0.7861 - val_loss: 0.4897 - val_accuracy: 0.8404\n",
            "Epoch 5/20\n",
            "40/40 [==============================] - 2s 48ms/step - loss: 0.4931 - accuracy: 0.8109 - val_loss: 0.4491 - val_accuracy: 0.8542\n",
            "Epoch 6/20\n",
            "40/40 [==============================] - 2s 49ms/step - loss: 0.4555 - accuracy: 0.8294 - val_loss: 0.4156 - val_accuracy: 0.8632\n",
            "Epoch 7/20\n",
            "40/40 [==============================] - 2s 48ms/step - loss: 0.4179 - accuracy: 0.8472 - val_loss: 0.3850 - val_accuracy: 0.8676\n",
            "Epoch 8/20\n",
            "40/40 [==============================] - 2s 49ms/step - loss: 0.3898 - accuracy: 0.8579 - val_loss: 0.3617 - val_accuracy: 0.8724\n",
            "Epoch 9/20\n",
            "40/40 [==============================] - 2s 49ms/step - loss: 0.3634 - accuracy: 0.8683 - val_loss: 0.3416 - val_accuracy: 0.8766\n",
            "Epoch 10/20\n",
            "40/40 [==============================] - 2s 50ms/step - loss: 0.3423 - accuracy: 0.8785 - val_loss: 0.3259 - val_accuracy: 0.8794\n",
            "Epoch 11/20\n",
            "40/40 [==============================] - 2s 50ms/step - loss: 0.3217 - accuracy: 0.8864 - val_loss: 0.3133 - val_accuracy: 0.8798\n",
            "Epoch 12/20\n",
            "40/40 [==============================] - 2s 48ms/step - loss: 0.3034 - accuracy: 0.8921 - val_loss: 0.3023 - val_accuracy: 0.8832\n",
            "Epoch 13/20\n",
            "40/40 [==============================] - 2s 48ms/step - loss: 0.2894 - accuracy: 0.8982 - val_loss: 0.2950 - val_accuracy: 0.8852\n",
            "Epoch 14/20\n",
            "40/40 [==============================] - 2s 48ms/step - loss: 0.2732 - accuracy: 0.9064 - val_loss: 0.2864 - val_accuracy: 0.8878\n",
            "Epoch 15/20\n",
            "40/40 [==============================] - 2s 48ms/step - loss: 0.2603 - accuracy: 0.9103 - val_loss: 0.2818 - val_accuracy: 0.8898\n",
            "Epoch 16/20\n",
            "40/40 [==============================] - 2s 48ms/step - loss: 0.2499 - accuracy: 0.9136 - val_loss: 0.2769 - val_accuracy: 0.8912\n",
            "Epoch 17/20\n",
            "40/40 [==============================] - 2s 48ms/step - loss: 0.2382 - accuracy: 0.9172 - val_loss: 0.2729 - val_accuracy: 0.8926\n",
            "Epoch 18/20\n",
            "40/40 [==============================] - 2s 48ms/step - loss: 0.2274 - accuracy: 0.9218 - val_loss: 0.2699 - val_accuracy: 0.8928\n",
            "Epoch 19/20\n",
            "40/40 [==============================] - 2s 48ms/step - loss: 0.2199 - accuracy: 0.9230 - val_loss: 0.2677 - val_accuracy: 0.8940\n",
            "Epoch 20/20\n",
            "40/40 [==============================] - 2s 48ms/step - loss: 0.2088 - accuracy: 0.9286 - val_loss: 0.2673 - val_accuracy: 0.8938\n"
          ]
        }
      ]
    },
    {
      "cell_type": "markdown",
      "source": [
        "The variable history.fit stores a dictionary of the loss accuracy of the training data and loss and accuracy for the validation data for each epoch. "
      ],
      "metadata": {
        "id": "3Pdgq0RT_2Kl"
      }
    },
    {
      "cell_type": "code",
      "source": [
        "history_dict = history.history\n",
        "history_dict.keys()"
      ],
      "metadata": {
        "colab": {
          "base_uri": "https://localhost:8080/"
        },
        "id": "8dr3S7or5mbu",
        "outputId": "41759ec2-11ae-4483-891a-00df3424d7f7"
      },
      "execution_count": null,
      "outputs": [
        {
          "output_type": "execute_result",
          "data": {
            "text/plain": [
              "dict_keys(['loss', 'accuracy', 'val_loss', 'val_accuracy'])"
            ]
          },
          "metadata": {},
          "execution_count": 37
        }
      ]
    },
    {
      "cell_type": "code",
      "source": [
        "import matplotlib.pyplot as plt\n",
        "history_dict = history.history\n",
        "loss_values = history_dict[\"loss\"]\n",
        "val_loss_values = history_dict[\"val_loss\"]\n",
        "epochs = range(1, len(loss_values) + 1)\n",
        "plt.plot(epochs, loss_values, \"bo\", label=\"Training loss\")\n",
        "plt.plot(epochs, val_loss_values, \"b\", label=\"Validation loss\")\n",
        "plt.title(\"Training and validation loss\")\n",
        "plt.xlabel(\"Epochs\")\n",
        "plt.ylabel(\"Loss\")\n",
        "plt.legend()\n",
        "plt.show()"
      ],
      "metadata": {
        "colab": {
          "base_uri": "https://localhost:8080/",
          "height": 295
        },
        "id": "ivo-2BQ05oTl",
        "outputId": "07580e66-602e-4728-e50f-05dfc5b41894"
      },
      "execution_count": null,
      "outputs": [
        {
          "output_type": "display_data",
          "data": {
            "image/png": "[encoded data removed]",
            "text/plain": [
              "<Figure size 432x288 with 1 Axes>"
            ]
          },
          "metadata": {
            "needs_background": "light"
          }
        }
      ]
    },
    {
      "cell_type": "code",
      "source": [
        "plt.clf()\n",
        "acc = history_dict[\"accuracy\"]\n",
        "val_acc = history_dict[\"val_accuracy\"]\n",
        "plt.plot(epochs, acc, \"bo\", label=\"Training acc\")\n",
        "plt.plot(epochs, val_acc, \"b\", label=\"Validation acc\")\n",
        "plt.title(\"Training and validation accuracy\")\n",
        "plt.xlabel(\"Epochs\")\n",
        "plt.ylabel(\"Accuracy\")\n",
        "plt.legend()\n",
        "plt.show()"
      ],
      "metadata": {
        "colab": {
          "base_uri": "https://localhost:8080/",
          "height": 295
        },
        "id": "o_U3b6rB5qZQ",
        "outputId": "40da1e81-6ef1-4e98-9d2a-29795f84e932"
      },
      "execution_count": null,
      "outputs": [
        {
          "output_type": "display_data",
          "data": {
            "image/png": "[encoded data removed]",
            "text/plain": [
              "<Figure size 432x288 with 1 Axes>"
            ]
          },
          "metadata": {
            "needs_background": "light"
          }
        }
      ]
    },
    {
      "cell_type": "markdown",
      "source": [
        "Retrain the model from scratch using the epoch number that results in the highest accuracy "
      ],
      "metadata": {
        "id": "GL_QYlIP5wPs"
      }
    },
    {
      "cell_type": "code",
      "source": [
        "model = keras.Sequential([\n",
        "    layers.Dense(32, activation=\"relu\"),\n",
        "    layers.Dropout(0.3), \n",
        "    layers.Dense(32, activation=\"relu\"),\n",
        "    layers.Dropout(0.3), \n",
        "    layers.Dense(1, activation=\"sigmoid\")\n",
        "])\n",
        "opt = keras.optimizers.RMSprop(learning_rate=0.0001)\n",
        "model.compile(optimizer=opt,\n",
        "              loss=\"binary_crossentropy\",\n",
        "              metrics=[\"accuracy\"])\n",
        "model.fit(x_train, y_train, epochs=20, batch_size=512)\n",
        "results = model.evaluate(x_test, y_test)"
      ],
      "metadata": {
        "colab": {
          "base_uri": "https://localhost:8080/"
        },
        "id": "LJfezKrF5uzx",
        "outputId": "b1a85a36-2968-483e-e1e3-c75c943cf195"
      },
      "execution_count": null,
      "outputs": [
        {
          "output_type": "stream",
          "name": "stdout",
          "text": [
            "Epoch 1/20\n",
            "49/49 [==============================] - 4s 45ms/step - loss: 0.6679 - accuracy: 0.6098\n",
            "Epoch 2/20\n",
            "49/49 [==============================] - 2s 45ms/step - loss: 0.5984 - accuracy: 0.7317\n",
            "Epoch 3/20\n",
            "49/49 [==============================] - 2s 45ms/step - loss: 0.5329 - accuracy: 0.7857\n",
            "Epoch 4/20\n",
            "49/49 [==============================] - 2s 45ms/step - loss: 0.4804 - accuracy: 0.8152\n",
            "Epoch 5/20\n",
            "49/49 [==============================] - 2s 45ms/step - loss: 0.4374 - accuracy: 0.8352\n",
            "Epoch 6/20\n",
            "49/49 [==============================] - 2s 43ms/step - loss: 0.4015 - accuracy: 0.8529\n",
            "Epoch 7/20\n",
            "49/49 [==============================] - 2s 44ms/step - loss: 0.3668 - accuracy: 0.8679\n",
            "Epoch 8/20\n",
            "49/49 [==============================] - 2s 44ms/step - loss: 0.3407 - accuracy: 0.8794\n",
            "Epoch 9/20\n",
            "49/49 [==============================] - 2s 45ms/step - loss: 0.3174 - accuracy: 0.8880\n",
            "Epoch 10/20\n",
            "49/49 [==============================] - 2s 45ms/step - loss: 0.2956 - accuracy: 0.8935\n",
            "Epoch 11/20\n",
            "49/49 [==============================] - 2s 45ms/step - loss: 0.2789 - accuracy: 0.9013\n",
            "Epoch 12/20\n",
            "49/49 [==============================] - 2s 45ms/step - loss: 0.2664 - accuracy: 0.9057\n",
            "Epoch 13/20\n",
            "49/49 [==============================] - 2s 45ms/step - loss: 0.2536 - accuracy: 0.9117\n",
            "Epoch 14/20\n",
            "49/49 [==============================] - 2s 46ms/step - loss: 0.2387 - accuracy: 0.9149\n",
            "Epoch 15/20\n",
            "49/49 [==============================] - 2s 45ms/step - loss: 0.2293 - accuracy: 0.9196\n",
            "Epoch 16/20\n",
            "49/49 [==============================] - 2s 44ms/step - loss: 0.2175 - accuracy: 0.9241\n",
            "Epoch 17/20\n",
            "49/49 [==============================] - 2s 44ms/step - loss: 0.2087 - accuracy: 0.9272\n",
            "Epoch 18/20\n",
            "49/49 [==============================] - 2s 45ms/step - loss: 0.1994 - accuracy: 0.9306\n",
            "Epoch 19/20\n",
            "49/49 [==============================] - 2s 45ms/step - loss: 0.1920 - accuracy: 0.9329\n",
            "Epoch 20/20\n",
            "49/49 [==============================] - 2s 45ms/step - loss: 0.1838 - accuracy: 0.9354\n",
            "782/782 [==============================] - 2s 3ms/step - loss: 0.2756 - accuracy: 0.8896\n"
          ]
        }
      ]
    },
    {
      "cell_type": "code",
      "source": [
        "results "
      ],
      "metadata": {
        "colab": {
          "base_uri": "https://localhost:8080/"
        },
        "id": "WA7i8UB75yjf",
        "outputId": "e9ac0174-d532-472d-b2c3-58ecaf48d2f0"
      },
      "execution_count": null,
      "outputs": [
        {
          "output_type": "execute_result",
          "data": {
            "text/plain": [
              "[0.2756270170211792, 0.8895999789237976]"
            ]
          },
          "metadata": {},
          "execution_count": 41
        }
      ]
    },
    {
      "cell_type": "code",
      "source": [
        "model.predict(x_test)"
      ],
      "metadata": {
        "colab": {
          "base_uri": "https://localhost:8080/"
        },
        "id": "-Bsg3BBE50a0",
        "outputId": "62d716a9-c7f2-4fd0-8614-b7553a1a4124"
      },
      "execution_count": null,
      "outputs": [
        {
          "output_type": "execute_result",
          "data": {
            "text/plain": [
              "array([[0.15247288],\n",
              "       [0.9992559 ],\n",
              "       [0.94791263],\n",
              "       ...,\n",
              "       [0.06949285],\n",
              "       [0.07546988],\n",
              "       [0.6019054 ]], dtype=float32)"
            ]
          },
          "metadata": {},
          "execution_count": 42
        }
      ]
    }
  ]
}